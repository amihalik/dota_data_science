{
 "cells": [
  {
   "cell_type": "markdown",
   "metadata": {},
   "source": [
    "# Exploratory Data Analysis\n",
    "This notebook provides exploratory data analysis for the datasets in the `data/` directory."
   ]
  },
  {
   "cell_type": "code",
   "execution_count": null,
   "metadata": {},
   "outputs": [],
   "source": [
    "import pandas as pd\n",
    "import matplotlib.pyplot as plt\n",
    "import seaborn as sns\n",
    "\n",
    "pd.set_option('display.max_columns', None)\n",
    "\n",
    "train_features = pd.read_csv('data/training_features.csv')\n",
    "train_targets = pd.read_csv('data/training_targets.csv')\n",
    "test_features = pd.read_csv('data/test_features.csv')\n"
   ]
  },
  {
   "cell_type": "code",
   "execution_count": null,
   "metadata": {},
   "outputs": [],
   "source": [
    "# Data shape and types\n",
    "print('Train features shape:', train_features.shape)\n",
    "print('Test features shape:', test_features.shape)\n",
    "print('Train targets shape:', train_targets.shape)\n",
    "train_features.dtypes.value_counts()"
   ]
  },
  {
   "cell_type": "code",
   "execution_count": null,
   "metadata": {},
   "outputs": [],
   "source": [
    "# Missing value analysis\n",
    "missing_train = train_features.isna().sum().sort_values(ascending=False)\n",
    "missing_test = test_features.isna().sum().sort_values(ascending=False)\n",
    "print('Missing values in training features:\n', missing_train.head())\n",
    "print('\nMissing values in test features:\n', missing_test.head())"
   ]
  },
  {
   "cell_type": "code",
   "execution_count": null,
   "metadata": {},
   "outputs": [],
   "source": [
    "# Statistical summaries\n",
    "train_features.describe().T"
   ]
  },
  {
   "cell_type": "code",
   "execution_count": null,
   "metadata": {},
   "outputs": [],
   "source": [
    "# Distribution plots for numerical features\n",
    "numeric_cols = train_features.select_dtypes(include='number').columns[:10]\n",
    "train_features[numeric_cols].hist(figsize=(15, 10))\n",
    "plt.tight_layout()\n",
    "plt.show()"
   ]
  },
  {
   "cell_type": "code",
   "execution_count": null,
   "metadata": {},
   "outputs": [],
   "source": [
    "# Value counts for categorical features\n",
    "cat_cols = train_features.select_dtypes(include='object').columns[:5]\n",
    "for col in cat_cols:\n",
    "    display(train_features[col].value_counts().head())"
   ]
  },
  {
   "cell_type": "code",
   "execution_count": null,
   "metadata": {},
   "outputs": [],
   "source": [
    "# Target variable analysis\n",
    "train_targets['radiant_win'].value_counts().plot(kind='bar')\n",
    "plt.title('Target Distribution')\n",
    "plt.show()"
   ]
  },
  {
   "cell_type": "code",
   "execution_count": null,
   "metadata": {},
   "outputs": [],
   "source": [
    "# Initial feature correlations\n",
    "combined = train_features.join(train_targets['radiant_win'])\n",
    "corr = combined.corr(numeric_only=True)['radiant_win'].sort_values(ascending=False)\n",
    "print(corr.head(10))"
   ]
  }
 ],
 "metadata": {
  "kernelspec": {
   "display_name": "Python 3",
   "language": "python",
   "name": "python3"
  },
  "language_info": {
   "name": "python",
   "version": "3.x"
  }
 },
 "nbformat": 4,
 "nbformat_minor": 2
}
